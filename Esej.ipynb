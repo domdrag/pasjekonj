{
 "cells": [
  {
   "cell_type": "markdown",
   "metadata": {},
   "source": [
    "# Kornjačina grafika"
   ]
  },
  {
   "cell_type": "markdown",
   "metadata": {},
   "source": [
    "## Uvod"
   ]
  },
  {
   "cell_type": "markdown",
   "metadata": {},
   "source": [
    "Kornjačina grafika (eng. *Turtle Graphics*) je izraz za računalnu vektorsku grafiku koja koristi tzv. *kornjaču* kao kursor koji se slobodno kreće u nekoj Kartezijevoj ravnini. Turtle Graphics je osnovna komponenta programskog jezika Logo, s kojim ste se sigurno već susreli u osnovnoj ili srednjoj školi. Logo, kao programski jezik, nije imao veliki utjecaj u računalnoj znanosti, ali zato je poslužio kao vrhunski obrazovni alat. Naime, ispostavilo se da je Logo predstavio najveći interes za programiranje kod djece od svih drugih alata, ponajviše zahvaljujući samoj kornjačinoj grafici. Jednostavan jezik, brzo se usvaja neovisno o dobi korisnika, a kako služi za crtanje razno raznih objekata, pruža učenje i neiscrpnu zabavu djeci. Više o motivaciji za izgradnju kornjačine grafike u sljedećem poglavlju."
   ]
  },
  {
   "cell_type": "markdown",
   "metadata": {},
   "source": [
    "## Motivacija"
   ]
  },
  {
   "cell_type": "markdown",
   "metadata": {},
   "source": [
    "Kako zainteresirati djecu i mlade za programiranje ? Upravo se to pitanje pojavilo kasnih 70-ih i ranih 80-ih kada programski jezici i samo programiranje dolaze do izražaja. Preciznije rečeno, mnogi su tražili način za edukaciju pojedinih geometrijskih i općenito matematičkih pojmova koji se javljaju u računalnoj grafici i računalno oblikovanom dizajnu. Od samih matematičkih pojmova vrijedi istaknuti sljedeće: aritmetika bejzbola[ Goldman, 2001], projektivna geometrija [Riesenfeld, 1981] i polarne forme [Ramshaw, 1989]. Ovaj esej obrađuje skroz drukčiji pristup objašnjenju geometrije u računalnoj grafici koristeći kornjačinu grafiku koja se po prvi put javlja u programskom jeziku Logo. \n",
    "\n",
    "Logo, kako je već rečeno u uvodu, se pokazao izuzetno uspješan u ostvarivanju navedenog cilja. Upravo o tome i govori američki matematičar i računalni znanstevnik Seymour Papert u svojoj knjizi Mindstorms: Children, Computers, and Powerful Ideas [1980]. Vrijedi i istaknuti da je sam Papert sudjelovao u izradi Logo-a zajedno sa kolegama Wally Feurzeig i Cynthia Solomon. Logo se, između ostalog, koristio i kao prvi programski jezik na raznim sveučilištima u SAD-u. Usprkos tome, Logo se nije uspio integrirati u tradicionalna sveučilišta poput Harvarda, Standforda i slično."
   ]
  },
  {
   "cell_type": "markdown",
   "metadata": {},
   "source": [
    "## Kornjačina geometrija i programiranje"
   ]
  },
  {
   "cell_type": "markdown",
   "metadata": {},
   "source": [
    "Što je to kornjačina geometrija uopce? Za samu definiciju, trebamo prije svega definirati pojam računalne geometrije. Računalna geometrija (def.) je grana računalne znanosti posvećena istraživanju algoritama koji se mogu reprezentirati u smislu geometrije. Sada definiramo kornjačinu geometriju kao lokalnu verziju računalne geometrije neovisna o koordinatama. Sama definicija nema neku osobitu važnost za sam esej, ali ju i dalje spominjemo radi potpunosti. Stvar koja nam je zato od izuzetne važnosti je činjenica da pomoću kornjačine geometrije možemo istraživati razne matematičke objekte, od jednostavnih mnogokuta do kompleksnih fraktala. Bez dajljnjeg odugovlačenja, krenimo u istraživanje same kornjačine geometrije, njezinih svojstva, implementacija i samih primjena u stvarnom životu.\n",
    "\n",
    "Za početak uvodimo virtualnu kornjaču. Ona predstavlja kursor u zamišljenom prostoru i nije previše *pametna*. Sve što zna je gdje se nalazi, u kojem smjeru pokazuje i tzv. *veličinu koraka*. Isto tako, podvrgava se trima jednostavnim operacijama: promjeni lokaciju, promjeni smjer i promjeni veličinu koraka. Objasnimo još na primjeru što točno znači veličina koraka.\n",
    "\n",
    "Zamislimo kornjaču na ravnini. Uvedemo li koordinatni sustav koji bi opisao danu ravninu, toj kornjači možemo pridružiti par koordinata (p1,p2) koji određuje njenu lokaciju. Njezin smjer naravno prikazujemo kao pravac na toj ravnini, a za vektor smjera biramo točku na tom pravcu čiji vektor ( iz ishodišta ) predstavlja željenu orijentaciju i čija duljina vektora predstavlja željenu duljinu koraka, odnosno duljinu koju ćemo prijeći u idućem koraku. Označimo li sa P=(p1,p2) i w vektor određen točkama (w1,w2) definiramo kornjačino stanje kao par točke i vektora (P,w). Iako računalo sprema te koordinate u svoju memoriju, programer kao i sama kornjača nemaju pristup tim koordinatama.\n",
    "\n",
    "Nadalje, koristimo četiri osnovne funkcije za manipuliranjem stanja kornjače, a to su FORWARD, MOVE, TURN i RESIZE. Svaka od navedenih funkcija prima jedan i samo jedan argument. Objasnimo ukratko što pojedine funkcije rade.\n",
    "\n",
    "FORWARD(d): Pomičemo kornjaču za d jedinica u smjeru i orijentaciji u kojem kornjača pokazuje i crtamo liniju od početne lokacije do ciljne lokacije. Kornjača ne mijenja smjer nakon funkcije FORWARD.\n",
    "\n",
    "MOVE(d): Slična funkcionalnost kao i FORWARD funkcija jedino što MOVE ne ostavlja trag za sobom, tj. ne crta se nikakva linija.\n",
    "\n",
    "TURN(a): Rotiramo kornjaču u smjeru obrnuto od kazaljke na satu i to za kut veličine a ( u radijanima ). \n",
    "\n",
    "RESIZE(s): Mijenjamo veličinu koraka za faktor s.\n",
    "\n",
    "Pokažimo par primjera koristeći kornjačinu grafiku implementiranu u Pythonu.\n",
    "\n",
    "\n",
    "#### VAŽNA NAPOMENA: Prilikom pokretanja koda, trebao bi se otvoriti novi file ( Python Turtle Graphics ) koji prikazuje kretanje kornjače. Ne prekidati izvršavanje dok kornjača nije stala !\n"
   ]
  },
  {
   "cell_type": "code",
   "execution_count": 7,
   "metadata": {},
   "outputs": [],
   "source": [
    "import turtle\n",
    "import importlib\n",
    "importlib.reload(turtle)\n",
    "\n",
    "#brzina kornjace\n",
    "#1-najsporija 10 ili 0-najbrza\n",
    "turtle.speed(1)\n",
    "#kornjacina orijetnacija je, po defaultu, nadesno\n",
    "turtle.forward(250)\n",
    "\n",
    "turtle.exitonclick()"
   ]
  },
  {
   "cell_type": "markdown",
   "metadata": {},
   "source": [
    "![Image](https://raw.githubusercontent.com/domdrag/pasjekonj/master/Screenshot_2.png)"
   ]
  },
  {
   "cell_type": "markdown",
   "metadata": {},
   "source": [
    "Obično se umjesto jedne funkcije turn implementiraju dvije; right(a) i left(a) koje potom zakreću kornjaču u onu stranu koju kazuje ime funkcije. Važno je napomenuti da u pythonu right i left funkcije primaju vrijednost u stupnjevima. Isto tako u pythonu nemamo eksplicitno funkciju move, ali njen efekt postižemo funkcijama penup() i pendown(). Penup() *diže* kornjaču i dok god ne pozovemo pendown(), kornjača neće ostaviti trag na slici. "
   ]
  },
  {
   "cell_type": "code",
   "execution_count": 8,
   "metadata": {},
   "outputs": [],
   "source": [
    "import turtle\n",
    "import importlib\n",
    "importlib.reload(turtle)\n",
    "\n",
    "turtle.speed(1)\n",
    "turtle.forward(100)\n",
    "turtle.right(90)\n",
    "turtle.penup()\n",
    "turtle.forward(130)\n",
    "turtle.pendown()\n",
    "turtle.forward(130)\n",
    "\n",
    "turtle.exitonclick()"
   ]
  },
  {
   "cell_type": "markdown",
   "metadata": {},
   "source": [
    "![Image](https://raw.githubusercontent.com/domdrag/pasjekonj/master/Screenshot_3.png)"
   ]
  },
  {
   "cell_type": "markdown",
   "metadata": {},
   "source": [
    "## Afina geometrija"
   ]
  },
  {
   "cell_type": "markdown",
   "metadata": {},
   "source": [
    "Afina geometrija je dio geometrije koje se bavi proučavanjem geometrijskih svojstava oblika koji su invarijatni nad afinim transformacijama. Pod afinim transformacijama mislimo na konačnu kompoziciju translacija, rotacija, skaliranja i tzv. shearing . Afine geometrija predstavlja težište u računalnoj grafici jer afine transformacije precizno opisuju repozicioniranje i promjenu veličine objekata u prostoru. Radi lakšeg razumijevanja, pokažimo primjere spomenutih funkcija s obzirom da većina studenata nije ni upoznato s pojmovima poput afina transformacija ili slično."
   ]
  },
  {
   "cell_type": "code",
   "execution_count": 50,
   "metadata": {},
   "outputs": [
    {
     "data": {
      "image/png": "[encoded data removed]",
      "text/plain": [
       "<Figure size 640x480 with 1 Axes>"
      ]
     },
     "execution_count": 50,
     "metadata": {},
     "output_type": "execute_result"
    }
   ],
   "source": [
    "import matplotlib.pyplot as plt\n",
    "import matplotlib.patches as patches\n",
    "import matplotlib as mpl\n",
    "import numpy as np\n",
    "%matplotlib agg\n",
    "    \n",
    "fig, ax = plt.subplots()\n",
    "ax.set_xlim(-10, 10)\n",
    "ax.set_ylim(-10, 10)\n",
    "\n",
    "#Translacija\n",
    "rect = patches.Rectangle( (-8,7), 2, 2, ec = 'black')\n",
    "ax.add_patch( rect )\n",
    "ax.arrow(-4.7, 8.3, 1, 0, head_width=0.05, head_length=0.03, linewidth=4, color='g', length_includes_head=True)\n",
    "rect = patches.Rectangle( (-2,7), 2, 2, ec = 'black')\n",
    "ax.add_patch( rect )\n",
    "ax.text(-5.7, 7, 'Translacija')\n",
    "\n",
    "#Rotacija\n",
    "ts = ax.transData\n",
    "coords = ts.transform([0.2, 0.5])\n",
    "tr = mpl.transforms.Affine2D().rotate_deg_around(coords[0], coords[1], 20)\n",
    "t= ts + tr\n",
    "rect0 = patches.Rectangle((-7,0.5),2,2, ec = 'black')\n",
    "ax.add_patch(rect0)\n",
    "rect1 = patches.Rectangle((-6.6,3.7),2,2,ec = 'black',transform=t)\n",
    "ax.add_patch(rect1);\n",
    "ax.text(-7, -1, 'Rotacija')\n",
    "\n",
    "#Skaliranje\n",
    "rect1 = patches.Rectangle( (1,0), 4, 4, color='darkgreen', ec = 'black')\n",
    "ax.add_patch( rect1 )\n",
    "rect1 = patches.Rectangle( (2,1), 2, 2,color='green' ,ec = 'black')\n",
    "ax.add_patch( rect1 )\n",
    "ax.text(1.7, -1.5, 'Skaliranje')\n",
    "\n",
    "#Shearing\n",
    "x = [-3,0,1,-2]\n",
    "y = [-7,-7,-4,-4]\n",
    "ax.add_patch(patches.Polygon(xy=list(zip(x,y)),ec='black'))\n",
    "rect = patches.Rectangle( (-3,-7), 3, 3, ec = 'black', fill = False)\n",
    "ax.add_patch( rect )\n",
    "ax.arrow(-2.9, -5, 0.3, 0, head_width=0.05, head_length=0.03, linewidth=4, color='red', length_includes_head=True)\n",
    "ax.arrow(-2.9, -4.4, 0.3, 0, head_width=0.05, head_length=0.03, linewidth=4, color='red', length_includes_head=True)\n",
    "ax.arrow(0.1, -5, 0.3, 0, head_width=0.05, head_length=0.03, linewidth=4, color='red', length_includes_head=True)\n",
    "ax.arrow(0.1, -4.4, 0.3, 0, head_width=0.05, head_length=0.03, linewidth=4, color='red', length_includes_head=True)\n",
    "ax.text(-2.5, -8, 'Shearing')\n",
    "\n",
    "fig\n"
   ]
  },
  {
   "cell_type": "markdown",
   "metadata": {},
   "source": [
    "Sigurno se pitate zašto sada spominjemo afinu geometriju kao iz vedra neba. Pokazalo se da mnogi studenti kada se susreću po prvi puta sa afinom geometrijom imaju problema u razumijevanju njenih osnovnih pojmova. Preciznije, ne mogu razumijeti razliku između točke i vektora u nekoj ravnini ili prostoru. Ovdje, a i u mnogim drugim situacijama, se kornjača i kornjačino programiranje pokazalo korisnim. Naime, distinkcija između točke i vektora u kornjačinom programiranju je fundamentalna. Naveli smo već da kornjača pamti tri stvari: trenutnu lokaciju, smjer skupa s orijentacijom i veličinu koraka. Točka ima fiksnu poziciju na koordinatnom sustavu, ali nema orijetnaciju niti duljinu, dok vektor ima orijentaciju i duljinu bez fiksne pozicije. Upravo korištenjem kornjačinih operacija studenti mogu na vrlo jednostavan i efikasan način uvidjeti na ,možda ne tako očitu, razliku između točke i vektora. Sama distinkcija između točke i vektora se u kornjačinoj implementaciji postiže na vrlo efikasan način. Pogledajmo kako točno naše četiri kornjačine metode direktno utječu na njenu poziciju i smjer.\n"
   ]
  },
  {
   "cell_type": "code",
   "execution_count": 334,
   "metadata": {},
   "outputs": [
    {
     "data": {
      "text/html": [
       "<style  type=\"text/css\" >\n",
       "    #T_bdbe7b28_8284_11ea_9068_bc5ff4a558e4row0_col2 {\n",
       "            width:  160px;\n",
       "        }    #T_bdbe7b28_8284_11ea_9068_bc5ff4a558e4row1_col2 {\n",
       "            width:  160px;\n",
       "        }    #T_bdbe7b28_8284_11ea_9068_bc5ff4a558e4row2_col2 {\n",
       "            width:  160px;\n",
       "        }    #T_bdbe7b28_8284_11ea_9068_bc5ff4a558e4row3_col2 {\n",
       "            width:  160px;\n",
       "        }</style><table id=\"T_bdbe7b28_8284_11ea_9068_bc5ff4a558e4\" ><thead>    <tr>        <th class=\"blank level0\" ></th>        <th class=\"col_heading level0 col0\" >Funkcija</th>        <th class=\"col_heading level0 col1\" >Utjecaj na poziciju</th>        <th class=\"col_heading level0 col2\" >Utjecaj na vektor</th>    </tr></thead><tbody>\n",
       "                <tr>\n",
       "                        <th id=\"T_bdbe7b28_8284_11ea_9068_bc5ff4a558e4level0_row0\" class=\"row_heading level0 row0\" >0</th>\n",
       "                        <td id=\"T_bdbe7b28_8284_11ea_9068_bc5ff4a558e4row0_col0\" class=\"data row0 col0\" >FORWARD(d)</td>\n",
       "                        <td id=\"T_bdbe7b28_8284_11ea_9068_bc5ff4a558e4row0_col1\" class=\"data row0 col1\" >P -> P + dw</td>\n",
       "                        <td id=\"T_bdbe7b28_8284_11ea_9068_bc5ff4a558e4row0_col2\" class=\"data row0 col2\" >w -> w</td>\n",
       "            </tr>\n",
       "            <tr>\n",
       "                        <th id=\"T_bdbe7b28_8284_11ea_9068_bc5ff4a558e4level0_row1\" class=\"row_heading level0 row1\" >1</th>\n",
       "                        <td id=\"T_bdbe7b28_8284_11ea_9068_bc5ff4a558e4row1_col0\" class=\"data row1 col0\" >MOVE(d)</td>\n",
       "                        <td id=\"T_bdbe7b28_8284_11ea_9068_bc5ff4a558e4row1_col1\" class=\"data row1 col1\" >P -> P + dw</td>\n",
       "                        <td id=\"T_bdbe7b28_8284_11ea_9068_bc5ff4a558e4row1_col2\" class=\"data row1 col2\" >w -> w</td>\n",
       "            </tr>\n",
       "            <tr>\n",
       "                        <th id=\"T_bdbe7b28_8284_11ea_9068_bc5ff4a558e4level0_row2\" class=\"row_heading level0 row2\" >2</th>\n",
       "                        <td id=\"T_bdbe7b28_8284_11ea_9068_bc5ff4a558e4row2_col0\" class=\"data row2 col0\" >TURN(a)</td>\n",
       "                        <td id=\"T_bdbe7b28_8284_11ea_9068_bc5ff4a558e4row2_col1\" class=\"data row2 col1\" >P -> P</td>\n",
       "                        <td id=\"T_bdbe7b28_8284_11ea_9068_bc5ff4a558e4row2_col2\" class=\"data row2 col2\" >w1 -> w1cos(a) - w2sin(a) w2 -> w1sin(a) + w2cos(a)</td>\n",
       "            </tr>\n",
       "            <tr>\n",
       "                        <th id=\"T_bdbe7b28_8284_11ea_9068_bc5ff4a558e4level0_row3\" class=\"row_heading level0 row3\" >3</th>\n",
       "                        <td id=\"T_bdbe7b28_8284_11ea_9068_bc5ff4a558e4row3_col0\" class=\"data row3 col0\" >RESIZE(s)</td>\n",
       "                        <td id=\"T_bdbe7b28_8284_11ea_9068_bc5ff4a558e4row3_col1\" class=\"data row3 col1\" >P -> P</td>\n",
       "                        <td id=\"T_bdbe7b28_8284_11ea_9068_bc5ff4a558e4row3_col2\" class=\"data row3 col2\" >w -> sw</td>\n",
       "            </tr>\n",
       "    </tbody></table>"
      ],
      "text/plain": [
       "<pandas.io.formats.style.Styler at 0x2511d6aa548>"
      ]
     },
     "execution_count": 334,
     "metadata": {},
     "output_type": "execute_result"
    }
   ],
   "source": [
    "import pandas as pd\n",
    "df = pd.DataFrame({'Funkcija': ['FORWARD(d)', 'MOVE(d)','TURN(a)','RESIZE(s)'],\n",
    "                 'Utjecaj na poziciju': ['P -> P + dw','P -> P + dw','P -> P','P -> P'],\n",
    "                  'Utjecaj na vektor': ['w -> w','w -> w','w1 -> w1cos(a) - w2sin(a) w2 -> w1sin(a) + w2cos(a)','w -> sw']})\n",
    "\n",
    "df.style.set_properties(subset=['Utjecaj na vektor'], **{'width': '160px'})\n"
   ]
  },
  {
   "cell_type": "markdown",
   "metadata": {},
   "source": [
    "Vidimo sad da FORWARD i MOVE operacije ( koje predstavljaju translaciju ) mijenjaju samo trenutnu poziciju kornjače, ali ne i vektor. Obratno, operacija RESIZE ( skaliranje ) mijenja vektor smjera, ali ne i lokaciju kornjače. Implicitno se tu želi reći da točke imaju poziciju ali ne i duljinu kao što imaju vektori koji pak, nemaju poziciju. Sada tek vidimo na koji način je kornjačino programiranje napravilo distinkciju između ta dva pojma koja većini studenata predstavlja problem s razumijevanjem.\n",
    "\n",
    "Ne zaboravimo još spomenuti i ulogu TURN operacije. Pomoću nje se studenti, uglavnom po prvi put, susreću sa rotacijom. Pošto smo se već upoznali sa linearnom algebrom i matričnim množenjem, većini studenata se prirodno nameće implementacija rotacije korištenjem matrica. Preciznije,"
   ]
  },
  {
   "cell_type": "markdown",
   "metadata": {},
   "source": [
    "$ (w_1 \\ w_2) \\to\\ (w_1 \\ w_2)*\\begin{bmatrix}\n",
    "    cos(a)      & sin(a) \\\\\n",
    "   -sin(a)            & cos(a)\\\\\n",
    "\\end{bmatrix}$ "
   ]
  },
  {
   "cell_type": "markdown",
   "metadata": {},
   "source": [
    "Napomenimo još i činjenicu da, ako ste slučajno već zapitali, smo i objasnili ulogu funkcije RESIZE. Funkcija RESIZE nema neku značajnu ulogu u programiranju, zna biti zgodna u pojedinim situacijama, ali naprosto funkcija FORWARD i MOVE mogu raditi i bez nje. To uostalom vidimo iz prijašnje tablice. Međutim, funkcija RESIZE nije uvedena tek tako. Njezina uloga je prije svega edukacijska. Pomoću nje studenti na vrlo efikasan način mogu vizualno predočiti što točno množenje vektora skalarom radi. "
   ]
  },
  {
   "cell_type": "markdown",
   "metadata": {},
   "source": [
    "## Kornjačina grafika"
   ]
  },
  {
   "cell_type": "markdown",
   "metadata": {},
   "source": [
    "Sada konačno možemo prijeći na primjere. Kornjačina grafika nam omogućuje crtanje svakakvih oblika u 2d prostoru. Ti oblici mogu predstavljati neki matematički objekt ili pak stvari iz stvarnog života naravno, prikazani u kartezijevoj ravnini. Pogledajmo kako bi izgledao pseudokod za crtanje pravilnog mnogokuta u ovisnosti o broju kuteva.\n",
    "\n",
    "$\n",
    "\\textrm{MNOGOKUT( n )} \\\\\n",
    "\\ \\ \\ \\ \\ \\  \\textrm{REPEAT N TIMES} \\\\\n",
    "\\ \\ \\ \\ \\ \\ \\ \\ \\ \\ \\ \\  \\textrm{FORWARD( 1 )} \\\\\n",
    "\\ \\ \\ \\ \\ \\  \\ \\ \\ \\ \\ \\ \\textrm{TURN( 2} \\pi \\textrm{ / n )}\n",
    "$\n"
   ]
  },
  {
   "cell_type": "markdown",
   "metadata": {},
   "source": [
    "Pogledajmo sada konkretnu realizaciju u pythonu. Vidimo da se realizacija u pythonu ne razlikuje bitno od pseudokoda. Mogli bismo reći da je najveća razlika što u pythonu umjesto $2\\pi \\ / \\ N$ pišemo $360 \\ / \\ n$ pošto smo već rekli da ovdje koristimo stupnjeve. Vrijedi još i napomenuti da se naša kornjača kreće u smjeru kazaljke na satu (funkcija left) za razliku od pseudokoda, ali svjesni smo da na kraju dobivamo identičnu sliku do na položaj u koordinatnom sustavu."
   ]
  },
  {
   "cell_type": "code",
   "execution_count": 20,
   "metadata": {},
   "outputs": [],
   "source": [
    "import turtle\n",
    "import importlib\n",
    "import math\n",
    "importlib.reload(turtle)\n",
    "\n",
    "def mnogokut(n):\n",
    "    i=n\n",
    "    while (i>0):\n",
    "        turtle.forward(100)\n",
    "        turtle.left(360/n)\n",
    "        i -= 1\n",
    "#crtamo pravilni desterokut\n",
    "mnogokut(10)\n",
    "\n",
    "turtle.exitonclick()"
   ]
  },
  {
   "cell_type": "markdown",
   "metadata": {},
   "source": [
    "n=4\n",
    "![Image](https://raw.githubusercontent.com/domdrag/pasjekonj/master/Screenshot_6.png)"
   ]
  },
  {
   "cell_type": "markdown",
   "metadata": {},
   "source": [
    "n=8\n",
    "![Image](https://raw.githubusercontent.com/domdrag/pasjekonj/master/Screenshot_7.png)"
   ]
  },
  {
   "cell_type": "markdown",
   "metadata": {},
   "source": [
    "Nacrtajmo još spiralu prije no što se bacimo na malo kompleksnije crteže. \n",
    "\n",
    "Pseudokod:\n",
    "\n",
    "$\n",
    "\\textrm{SPIRALA(n,a,s)} \\\\\n",
    "\\ \\ \\ \\ \\ \\  \\textrm{REPEAT N TIMES} \\\\\n",
    "\\ \\ \\ \\ \\ \\ \\ \\ \\ \\ \\ \\  \\textrm{FORWARD( 1 )} \\\\\n",
    "\\ \\ \\ \\ \\ \\  \\ \\ \\ \\ \\ \\ \\textrm{TURN( a )} \\\\\n",
    "\\ \\ \\ \\ \\ \\  \\ \\ \\ \\ \\ \\ \\textrm{RESIZE( s )}\n",
    "$\n"
   ]
  },
  {
   "cell_type": "markdown",
   "metadata": {},
   "source": [
    "Implementacija:"
   ]
  },
  {
   "cell_type": "code",
   "execution_count": 1,
   "metadata": {},
   "outputs": [],
   "source": [
    "import turtle\n",
    "import importlib\n",
    "import math\n",
    "importlib.reload(turtle)\n",
    "\n",
    "turtle.speed(0) #max_speed\n",
    "\n",
    "def spirala(n,a,s):\n",
    "    i=n\n",
    "    fact_s = 1 #u pythonu nemamo resize\n",
    "    while (i>0):\n",
    "        turtle.forward( fact_s )\n",
    "        turtle.left(a)\n",
    "        fact_s *= s\n",
    "        i -= 1\n",
    "#spirala\n",
    "spirala(250,5,1.01)\n",
    "\n",
    "turtle.exitonclick()"
   ]
  },
  {
   "cell_type": "markdown",
   "metadata": {},
   "source": [
    "![Image](https://raw.githubusercontent.com/domdrag/pasjekonj/master/Screenshot_10.png)"
   ]
  },
  {
   "cell_type": "markdown",
   "metadata": {},
   "source": [
    "Napomenimo da ovdje nismo napravili formalno matematičku spiralu, ali efekt postižemo malim stupnjem zaokreta ( 5° ) i velikim brojem iteracija ( 250 ).\n",
    "\n",
    "Krenimo s najzabavnijim dijelom našeg eseja; fraktalima. Napomenimo prvo par stvari generalno o fraktalima prije nego što ih krenemo oblikovati pomoću naše kornjače.\n"
   ]
  },
  {
   "cell_type": "markdown",
   "metadata": {},
   "source": [
    "## Fraktali"
   ]
  },
  {
   "cell_type": "markdown",
   "metadata": {},
   "source": [
    "Fraktali su geometrijski objekti čija je fraktalna dimenzija strogo veća od topološke dimenzije. Neformalno, to su objekti koji daju jednaku razinu detalja neovisno o razlučivosti koju koristimo. Dakle, fraktale je moguće uvećavati beskonačno mnogo, a da se pri svakom novom povećanju vide neki detalji koji prije povećanja nisu bili vidljivi, i da količina novih detalja uvijek bude otprilike jednaka. Oni su (barem približno) samoslični (sastoje se od umanjenih inačica samih sebe), ali isuviše nepravilni da bi se opisali jednostavnom geometrijom. Tako npr. dužina nije fraktal, iako je samoslična (sastoji se od beskonačno mnogo dužina, a sve su dužine slične). Laički rečeno, oni su \"načičkani\" do u beskonačnost. Fraktale je nemoguće nacrtati jer oni se naprosto \"šire\" u beskonačnost, ali uspijemo li nacrtati prvih par iteracija fraktala moći ćemo vidjeti na koji način se oni zapravo \"šire\". Objasnimo na primjeru što bi to bila iteracija fraktala."
   ]
  },
  {
   "cell_type": "markdown",
   "metadata": {},
   "source": [
    "![Image](https://raw.githubusercontent.com/domdrag/pasjekonj/master/Screenshot_13.png)"
   ]
  },
  {
   "cell_type": "markdown",
   "metadata": {},
   "source": [
    "Kako izgledaju iduće iteracije je sada jasna stvar. U svakoj idućoj iteraciji samo nacrtamo dvije manje kružnice unutar ovih unutrašnjih kružnica. Dakle, u $k$-toj iteraciji crtamo $2^{k-1}$ novih kružnica manjeg radijusa tako da se te kružnice dodirivaju u polovima. Koliko manjeg radijusa? Pogledamo li malo pažljivije drugu iteraciju, vidimo da promjer velike kružnice je točno dvostruko veći od promjera manjih. Sada kada znamo da u svakom koraku moramo smanjivati polumjer za faktor 2, ostaje samo objasniti na koji točno način konstruirati funkciju koja generira n-tu iteraciju našeg fraktala. Ideja je sljedeća; krećemo crtati najveću kružnicu, ali ne cijelu. Čim nacrtamo kružnicu na pola ( dakle polukružnicu ), krećemo na crtanje kružnice manjeg radijusa. I postupak ponavljamo dok ne stignemo do najmanje kružnice u iteraciji. Radi lakšeg razumijevanja, pokrenimo sljedeći kod. Napomenimo još da u sljedećem kodu koristimo pythonovu funkciju circle radi jednostavnosti koda. Funkcija circle prima dva argumenta, prvi koji određuje radijus, a drugi označava tzv. stupanj zaustavljanja. Ako nam je drugi argument 360, to će značiti da crtamo čitavu kružnicu, ukoliko je postavljen na 180 tada crtamo polukružnicu."
   ]
  },
  {
   "cell_type": "code",
   "execution_count": 17,
   "metadata": {},
   "outputs": [],
   "source": [
    "import turtle\n",
    "import importlib\n",
    "import math\n",
    "importlib.reload(turtle)\n",
    "\n",
    "turtle.speed(1)\n",
    "end = False\n",
    "def a(n,d):\n",
    "    global end\n",
    "    if n==1:\n",
    "        end = True\n",
    "    elif n>0:\n",
    "        for i in range(2):\n",
    "            if end==True:\n",
    "                return\n",
    "            turtle.circle(d,180)\n",
    "            a(n-1,d//2)\n",
    "a(5,100)\n",
    "\n",
    "turtle.exitonclick()"
   ]
  },
  {
   "cell_type": "markdown",
   "metadata": {},
   "source": [
    "![Image](https://raw.githubusercontent.com/domdrag/pasjekonj/master/Screenshot_14.png)"
   ]
  },
  {
   "cell_type": "markdown",
   "metadata": {},
   "source": [
    "Sada kada smo došli do najmanje kružnice, želimo ju nacrtati do kraja."
   ]
  },
  {
   "cell_type": "markdown",
   "metadata": {},
   "source": [
    "![Image](https://raw.githubusercontent.com/domdrag/pasjekonj/master/Screenshot_15.png)"
   ]
  },
  {
   "cell_type": "markdown",
   "metadata": {},
   "source": [
    "U sljedećem koraku želimo prethodnu polukružnicu nadopuniti do čitave kružnice i ponovno iscrtati kružnicu najmanjeg radijusa."
   ]
  },
  {
   "cell_type": "markdown",
   "metadata": {},
   "source": [
    "![Image](https://raw.githubusercontent.com/domdrag/pasjekonj/master/Screenshot_16.png)"
   ]
  },
  {
   "cell_type": "markdown",
   "metadata": {},
   "source": [
    "Sada ponavljamo prethodni postupak. Preciznije rečeno, u svakom nadolazećem koraku radimo točno jednu od dvije stvari: ili nadopunjujemo prethodno nacrtanu polukružnicu do čitave kružnice ili stvaramo nove polukružnice tako da u svakom koraku prepolavljamo radijus. Za čitav ovaj algoritam potrebno je samo pet linija koda."
   ]
  },
  {
   "cell_type": "code",
   "execution_count": 34,
   "metadata": {},
   "outputs": [],
   "source": [
    "#NE POKRETATI OVAJ KOD !\n",
    "def fraktal(iteracija,radijus):\n",
    "    if iteracija>0:\n",
    "        for i in range(2):\n",
    "            circle(radijus,180)\n",
    "            fraktal(iteracija-1,radijus//2)"
   ]
  },
  {
   "cell_type": "markdown",
   "metadata": {},
   "source": [
    "Ako malo bolje pogledamo kod, vidimo da ništa drugo u stvari nije ni potrebno navesti. Rekurzivna funkcija fraktal crta sve manje polukružnice dok je varijabla iteracija > 0. Kada iteracija postane 0, funkcija završava kružnicu i vraća se u prijašnje stanje gdje je radijus upola veći. Pokrenimo sljedeći kod i uvjerimo se da to zaista radi."
   ]
  },
  {
   "cell_type": "code",
   "execution_count": 36,
   "metadata": {},
   "outputs": [],
   "source": [
    "import turtle\n",
    "import importlib\n",
    "importlib.reload(turtle)\n",
    "\n",
    "turtle.speed(5)\n",
    "#Povećavamo li n, dobivamo sve veće iteracije našeg fraktala\n",
    "def fraktal(n,r):\n",
    "    if n>0:\n",
    "        for i in range(2):\n",
    "            turtle.circle(r,180)\n",
    "            fraktal(n-1,r//2)\n",
    "#5. iteracija\n",
    "fraktal(5,100)\n",
    "\n",
    "turtle.exitonclick()"
   ]
  },
  {
   "cell_type": "markdown",
   "metadata": {},
   "source": [
    "![Image](https://raw.githubusercontent.com/domdrag/pasjekonj/master/Screenshot_17.png)"
   ]
  },
  {
   "cell_type": "markdown",
   "metadata": {},
   "source": [
    "### Cantorova prašina"
   ]
  },
  {
   "cell_type": "markdown",
   "metadata": {},
   "source": [
    "Sljedeći fraktal s kojim ćemo se pozabavati ima čak i svoje ime. Riječ je o tzv. Cantorovoj prašini. Sigurno ste se već upoznali sa pojmom Cantorovog skupa. Cantorov skup je skup odvojenih točaka dužine koji se dobije konstantnim izbacivanjem srednje trećine svih preostalih segmenata. To je fraktal topološke dimenzije 0 (nula). Predstavio ga je njemački matematičar Georg Cantor 1883. godine."
   ]
  },
  {
   "cell_type": "markdown",
   "metadata": {},
   "source": [
    "![Image](https://upload.wikimedia.org/wikipedia/commons/5/56/Cantor_set_in_seven_iterations.svg)"
   ]
  },
  {
   "cell_type": "markdown",
   "metadata": {},
   "source": [
    "Cantorova prašina je naziv za višedimenzionalni analogon Cantorovom skupu. U ovom eseju bavimo se dvodimenzionalnim analogonom Cantorovog skupa.Postupak za dvodimenzionalni analogon je sljedeći: jedinični se kvadrat podijeli na 9 jednakih kvadrata od kojih se izbaci pet kvadrata koji ne sadrže vrh početnog kvadrata (izbace se kvadrati u obliku znaka +). Postupak se ponovi s ostala četiri kvadrata i tako beskonačno puta. Ilustrirajmo postupak."
   ]
  },
  {
   "cell_type": "markdown",
   "metadata": {},
   "source": [
    "![Image](https://www.researchgate.net/profile/Marina_Toeters/publication/305177324/figure/fig2/AS:382766756712449@1468270114653/Approximating-Cantor-set-a-Cantor-dust-b-and-twill-woven-Cantor-set-warp-and-weft.png)"
   ]
  },
  {
   "cell_type": "markdown",
   "metadata": {},
   "source": [
    "Ideja za konstrukciju Cantorove prašine je sasvim identična prethodnoj. Počet ćemo sa izgradnjom najveće stranice kvadrata, potom crtati sve manje dok ne dođemo najmanje. Najmanji kvadrat napravimo do kraja i vraćamo se u prethodno stanje rekurzije. Praktički radimo sve isto kao i prije samo što umjesto polukružnice crtamo dužinu i rotiramo se za 90°. Napomenimo još da ovdje dužinu više ne raspolavljamo nego ju dijelimo sa 3, ali to bi trebalo biti jasno već iz prethodne ilustracije"
   ]
  },
  {
   "cell_type": "code",
   "execution_count": 52,
   "metadata": {},
   "outputs": [],
   "source": [
    "import turtle\n",
    "import importlib\n",
    "importlib.reload(turtle)\n",
    "\n",
    "turtle.speed(8)\n",
    "#Povećavamo li n, dobivamo sve veće iteracije našeg fraktala\n",
    "def cantor(n,stranica):\n",
    "    if n>0:\n",
    "        for i in range(4):\n",
    "            turtle.forward(stranica)\n",
    "            turtle.left(90)\n",
    "            cantor(n-1,stranica//3)\n",
    "#4. iteracija\n",
    "cantor(4,250)\n",
    "\n",
    "turtle.exitonclick()"
   ]
  },
  {
   "cell_type": "markdown",
   "metadata": {},
   "source": [
    "![Image](https://raw.githubusercontent.com/domdrag/pasjekonj/master/Screenshot_18.png)"
   ]
  },
  {
   "cell_type": "markdown",
   "metadata": {},
   "source": [
    "### Kochova krivulja"
   ]
  },
  {
   "cell_type": "markdown",
   "metadata": {},
   "source": [
    "Stigli smo i do zadnjeg potpoglavlja ovog eseja."
   ]
  },
  {
   "cell_type": "code",
   "execution_count": null,
   "metadata": {},
   "outputs": [],
   "source": []
  }
 ],
 "metadata": {
  "kernelspec": {
   "display_name": "Python 3",
   "language": "python",
   "name": "python3"
  },
  "language_info": {
   "codemirror_mode": {
    "name": "ipython",
    "version": 3
   },
   "file_extension": ".py",
   "mimetype": "text/x-python",
   "name": "python",
   "nbconvert_exporter": "python",
   "pygments_lexer": "ipython3",
   "version": "3.7.6"
  }
 },
 "nbformat": 4,
 "nbformat_minor": 4
}
